{
 "cells": [
  {
   "cell_type": "code",
   "execution_count": 1,
   "id": "f3b4d706-7df1-4cb0-b0df-ec6e120c1f5f",
   "metadata": {},
   "outputs": [],
   "source": [
    "#Importing all the necessarry modules\n",
    "from sklearn.preprocessing import LabelEncoder\n",
    "from sklearn.metrics import classification_report\n",
    "from tensorflow.keras.optimizers import Adam\n",
    "from keras.preprocessing.image import ImageDataGenerator\n",
    "from pyimagesearch.preprocessing import MeanPreprocessor\n",
    "from pyimagesearch.preprocessing import ImageToArrayPreprocessor\n",
    "from pyimagesearch.preprocessing import SimplePreprocessor\n",
    "from pyimagesearch.io import HDF5DatasetGenerator\n",
    "from pyimagesearch.nn.conv import DeeperGoogLeNet\n",
    "from keras.utils import np_utils\n",
    "import matplotlib.pyplot as plt\n",
    "import numpy as np\n",
    "import os\n",
    "import json\n",
    "import h5py"
   ]
  },
  {
   "cell_type": "code",
   "execution_count": 2,
   "id": "7c66e13b-3a0e-4a5c-b115-40471971237d",
   "metadata": {},
   "outputs": [],
   "source": [
    "TRAIN_HDF5 = \"/media/pavle/HDD_disk/deep-learning/fruit-recognition/fruits-360_dataset/fruits-360/train.hdf5\"\n",
    "VAL_HDF5 = \"/media/pavle/HDD_disk/deep-learning/fruit-recognition/fruits-360_dataset/fruits-360/validate.hdf5\"\n",
    "TEST_HDF5 = \"/media/pavle/HDD_disk/deep-learning/fruit-recognition/fruits-360_dataset/fruits-360/test.hdf5\""
   ]
  },
  {
   "cell_type": "code",
   "execution_count": 3,
   "id": "aae19101-3837-4581-9840-166bca0e3d6f",
   "metadata": {},
   "outputs": [],
   "source": [
    "#Loading Data.\n",
    "with open(\"means.json\", 'r') as j:\n",
    "     means = json.loads(j.read())\n",
    "\n",
    "mp = MeanPreprocessor(means[\"R\"], means[\"G\"], means[\"B\"])\n",
    "iap = ImageToArrayPreprocessor()\n",
    "sp = SimplePreprocessor(64,64)\n",
    "\n",
    "batch_s = 64\n",
    "#Initially ran on 75, tho on 45, the model reaches its maximum.\n",
    "epochs = 45\n",
    "#The dataset has this many classes, yes.\n",
    "classes = 131\n",
    "\n",
    "#Define data augmentationn.\n",
    "aug = ImageDataGenerator(rotation_range=20, width_shift_range=0.1,\n",
    "\theight_shift_range=0.1, shear_range=0.2, zoom_range=0.2, fill_mode=\"nearest\")\n",
    "\n",
    "# initialize the training and validation dataset generators\n",
    "trainGen = HDF5DatasetGenerator(TRAIN_HDF5, batch_s, aug=aug,\n",
    "    preprocessors=[sp, mp, iap], classes=classes)\n",
    "valGen = HDF5DatasetGenerator(VAL_HDF5, batch_s,\n",
    "    preprocessors=[sp, mp, iap], classes=classes)\n",
    "testGen = HDF5DatasetGenerator(TEST_HDF5, batch_s,\n",
    "    preprocessors=[sp, mp, iap], classes=classes) "
   ]
  },
  {
   "cell_type": "code",
   "execution_count": 4,
   "id": "86726271-59b5-4a4c-beab-7d5d39b8f316",
   "metadata": {},
   "outputs": [
    {
     "name": "stderr",
     "output_type": "stream",
     "text": [
      "2021-12-23 15:27:57.459039: I tensorflow/stream_executor/cuda/cuda_gpu_executor.cc:937] successful NUMA node read from SysFS had negative value (-1), but there must be at least one NUMA node, so returning NUMA node zero\n",
      "2021-12-23 15:27:57.494467: I tensorflow/stream_executor/cuda/cuda_gpu_executor.cc:937] successful NUMA node read from SysFS had negative value (-1), but there must be at least one NUMA node, so returning NUMA node zero\n",
      "2021-12-23 15:27:57.494757: I tensorflow/stream_executor/cuda/cuda_gpu_executor.cc:937] successful NUMA node read from SysFS had negative value (-1), but there must be at least one NUMA node, so returning NUMA node zero\n",
      "2021-12-23 15:27:57.495357: I tensorflow/core/platform/cpu_feature_guard.cc:142] This TensorFlow binary is optimized with oneAPI Deep Neural Network Library (oneDNN) to use the following CPU instructions in performance-critical operations:  AVX2 FMA\n",
      "To enable them in other operations, rebuild TensorFlow with the appropriate compiler flags.\n",
      "2021-12-23 15:27:57.495935: I tensorflow/stream_executor/cuda/cuda_gpu_executor.cc:937] successful NUMA node read from SysFS had negative value (-1), but there must be at least one NUMA node, so returning NUMA node zero\n",
      "2021-12-23 15:27:57.496197: I tensorflow/stream_executor/cuda/cuda_gpu_executor.cc:937] successful NUMA node read from SysFS had negative value (-1), but there must be at least one NUMA node, so returning NUMA node zero\n",
      "2021-12-23 15:27:57.496445: I tensorflow/stream_executor/cuda/cuda_gpu_executor.cc:937] successful NUMA node read from SysFS had negative value (-1), but there must be at least one NUMA node, so returning NUMA node zero\n",
      "2021-12-23 15:27:58.132575: I tensorflow/stream_executor/cuda/cuda_gpu_executor.cc:937] successful NUMA node read from SysFS had negative value (-1), but there must be at least one NUMA node, so returning NUMA node zero\n",
      "2021-12-23 15:27:58.132890: I tensorflow/stream_executor/cuda/cuda_gpu_executor.cc:937] successful NUMA node read from SysFS had negative value (-1), but there must be at least one NUMA node, so returning NUMA node zero\n",
      "2021-12-23 15:27:58.133180: I tensorflow/stream_executor/cuda/cuda_gpu_executor.cc:937] successful NUMA node read from SysFS had negative value (-1), but there must be at least one NUMA node, so returning NUMA node zero\n",
      "2021-12-23 15:27:58.133692: I tensorflow/core/common_runtime/gpu/gpu_device.cc:1510] Created device /job:localhost/replica:0/task:0/device:GPU:0 with 2098 MB memory:  -> device: 0, name: NVIDIA GeForce GTX 1650 Ti with Max-Q Design, pci bus id: 0000:01:00.0, compute capability: 7.5\n"
     ]
    }
   ],
   "source": [
    "model = DeeperGoogLeNet.build(width=64, height=64, depth=3, classes=classes, reg=0.0002)\n",
    "opt = Adam(1e-3)\n",
    "model.compile(loss=\"categorical_crossentropy\", optimizer=opt, metrics=[\"accuracy\"])"
   ]
  },
  {
   "cell_type": "code",
   "execution_count": 5,
   "id": "299e49d7-0462-4854-b4b7-bea450966d3c",
   "metadata": {},
   "outputs": [
    {
     "name": "stderr",
     "output_type": "stream",
     "text": [
      "/home/pavle/.local/lib/python3.8/site-packages/keras/engine/training.py:1972: UserWarning: `Model.fit_generator` is deprecated and will be removed in a future version. Please use `Model.fit`, which supports generators.\n",
      "  warnings.warn('`Model.fit_generator` is deprecated and '\n",
      "2021-12-23 15:27:59.465037: I tensorflow/compiler/mlir/mlir_graph_optimization_pass.cc:185] None of the MLIR Optimization Passes are enabled (registered 2)\n"
     ]
    },
    {
     "name": "stdout",
     "output_type": "stream",
     "text": [
      "Epoch 1/45\n"
     ]
    },
    {
     "name": "stderr",
     "output_type": "stream",
     "text": [
      "2021-12-23 15:28:04.188733: I tensorflow/stream_executor/cuda/cuda_dnn.cc:369] Loaded cuDNN version 8204\n",
      "2021-12-23 15:28:04.922530: I tensorflow/core/platform/default/subprocess.cc:304] Start cannot spawn child process: No such file or directory\n"
     ]
    },
    {
     "name": "stdout",
     "output_type": "stream",
     "text": [
      "793/793 [==============================] - 126s 147ms/step - loss: 1.8502 - accuracy: 0.8091 - val_loss: 19.3825 - val_accuracy: 0.0273\n",
      "Epoch 2/45\n",
      "793/793 [==============================] - 110s 136ms/step - loss: 1.2914 - accuracy: 0.9244 - val_loss: 11.0046 - val_accuracy: 0.1520\n",
      "Epoch 3/45\n",
      "793/793 [==============================] - 108s 136ms/step - loss: 0.9850 - accuracy: 0.9538 - val_loss: 5.5379 - val_accuracy: 0.4163\n",
      "Epoch 4/45\n",
      "793/793 [==============================] - 108s 137ms/step - loss: 0.8063 - accuracy: 0.9561 - val_loss: 7.0272 - val_accuracy: 0.3836\n",
      "Epoch 5/45\n",
      "793/793 [==============================] - 108s 137ms/step - loss: 0.6787 - accuracy: 0.9586 - val_loss: 3.3175 - val_accuracy: 0.5794\n",
      "Epoch 6/45\n",
      "793/793 [==============================] - 108s 137ms/step - loss: 0.5789 - accuracy: 0.9638 - val_loss: 2.7676 - val_accuracy: 0.6571\n",
      "Epoch 7/45\n",
      "793/793 [==============================] - 109s 137ms/step - loss: 0.5223 - accuracy: 0.9654 - val_loss: 3.6309 - val_accuracy: 0.5164\n",
      "Epoch 8/45\n",
      "793/793 [==============================] - 107s 134ms/step - loss: 0.5073 - accuracy: 0.9678 - val_loss: 1.0292 - val_accuracy: 0.8249\n",
      "Epoch 9/45\n",
      "793/793 [==============================] - 106s 134ms/step - loss: 0.4348 - accuracy: 0.9716 - val_loss: 1.2606 - val_accuracy: 0.8191\n",
      "Epoch 10/45\n",
      "793/793 [==============================] - 106s 134ms/step - loss: 0.4264 - accuracy: 0.9739 - val_loss: 1.0358 - val_accuracy: 0.9143\n",
      "Epoch 11/45\n",
      "793/793 [==============================] - 106s 134ms/step - loss: 0.3595 - accuracy: 0.9788 - val_loss: 1.6635 - val_accuracy: 0.8948\n",
      "Epoch 12/45\n",
      "793/793 [==============================] - 108s 136ms/step - loss: 0.3493 - accuracy: 0.9782 - val_loss: 0.8398 - val_accuracy: 0.8840\n",
      "Epoch 13/45\n",
      "793/793 [==============================] - 108s 137ms/step - loss: 0.3335 - accuracy: 0.9814 - val_loss: 0.9165 - val_accuracy: 0.9054\n",
      "Epoch 14/45\n",
      "793/793 [==============================] - 108s 137ms/step - loss: 0.3090 - accuracy: 0.9815 - val_loss: 0.8083 - val_accuracy: 0.9241\n",
      "Epoch 15/45\n",
      "793/793 [==============================] - 109s 137ms/step - loss: 0.2999 - accuracy: 0.9831 - val_loss: 1.1594 - val_accuracy: 0.9393\n",
      "Epoch 16/45\n",
      "793/793 [==============================] - 108s 137ms/step - loss: 0.2802 - accuracy: 0.9833 - val_loss: 0.7541 - val_accuracy: 0.9291\n",
      "Epoch 17/45\n",
      "793/793 [==============================] - 108s 137ms/step - loss: 0.2668 - accuracy: 0.9851 - val_loss: 0.7995 - val_accuracy: 0.9361\n",
      "Epoch 18/45\n",
      "793/793 [==============================] - 107s 135ms/step - loss: 0.2574 - accuracy: 0.9852 - val_loss: 0.9525 - val_accuracy: 0.9351\n",
      "Epoch 19/45\n",
      "793/793 [==============================] - 106s 134ms/step - loss: 0.2458 - accuracy: 0.9852 - val_loss: 1.2491 - val_accuracy: 0.8145\n",
      "Epoch 20/45\n",
      "793/793 [==============================] - 106s 133ms/step - loss: 0.2326 - accuracy: 0.9873 - val_loss: 0.5957 - val_accuracy: 0.9376\n",
      "Epoch 21/45\n",
      "793/793 [==============================] - 106s 134ms/step - loss: 0.2405 - accuracy: 0.9847 - val_loss: 0.7106 - val_accuracy: 0.9228\n",
      "Epoch 22/45\n",
      "793/793 [==============================] - 106s 133ms/step - loss: 0.2169 - accuracy: 0.9889 - val_loss: 0.5775 - val_accuracy: 0.9411\n",
      "Epoch 23/45\n",
      "793/793 [==============================] - 106s 133ms/step - loss: 0.2226 - accuracy: 0.9871 - val_loss: 1.1297 - val_accuracy: 0.8523\n",
      "Epoch 24/45\n",
      "793/793 [==============================] - 106s 133ms/step - loss: 0.2046 - accuracy: 0.9901 - val_loss: 1.0340 - val_accuracy: 0.9102\n",
      "Epoch 25/45\n",
      "793/793 [==============================] - 106s 133ms/step - loss: 0.2163 - accuracy: 0.9862 - val_loss: 1.0692 - val_accuracy: 0.9267\n",
      "Epoch 26/45\n",
      "793/793 [==============================] - 106s 133ms/step - loss: 0.2108 - accuracy: 0.9883 - val_loss: 0.7332 - val_accuracy: 0.9438\n",
      "Epoch 27/45\n",
      "793/793 [==============================] - 108s 136ms/step - loss: 0.2057 - accuracy: 0.9887 - val_loss: 0.6145 - val_accuracy: 0.9335\n",
      "Epoch 28/45\n",
      "793/793 [==============================] - 108s 136ms/step - loss: 0.1823 - accuracy: 0.9915 - val_loss: 1.0489 - val_accuracy: 0.8604\n",
      "Epoch 29/45\n",
      "793/793 [==============================] - 107s 136ms/step - loss: 0.1918 - accuracy: 0.9891 - val_loss: 0.6796 - val_accuracy: 0.9461\n",
      "Epoch 30/45\n",
      "793/793 [==============================] - 108s 136ms/step - loss: 0.1851 - accuracy: 0.9904 - val_loss: 0.9259 - val_accuracy: 0.9175\n",
      "Epoch 31/45\n",
      "793/793 [==============================] - 108s 136ms/step - loss: 0.1833 - accuracy: 0.9891 - val_loss: 0.7918 - val_accuracy: 0.9263\n",
      "Epoch 32/45\n",
      "793/793 [==============================] - 109s 138ms/step - loss: 0.1980 - accuracy: 0.9888 - val_loss: 0.9175 - val_accuracy: 0.9106\n",
      "Epoch 33/45\n",
      "793/793 [==============================] - 113s 143ms/step - loss: 0.1934 - accuracy: 0.9882 - val_loss: 0.8824 - val_accuracy: 0.9425\n",
      "Epoch 34/45\n",
      "793/793 [==============================] - 113s 142ms/step - loss: 0.1724 - accuracy: 0.9915 - val_loss: 0.7219 - val_accuracy: 0.9423\n",
      "Epoch 35/45\n",
      "793/793 [==============================] - 113s 143ms/step - loss: 0.1733 - accuracy: 0.9906 - val_loss: 0.6602 - val_accuracy: 0.9376\n",
      "Epoch 36/45\n",
      "793/793 [==============================] - 110s 139ms/step - loss: 0.1728 - accuracy: 0.9897 - val_loss: 0.7008 - val_accuracy: 0.9444\n",
      "Epoch 37/45\n",
      "793/793 [==============================] - 108s 137ms/step - loss: 0.1735 - accuracy: 0.9906 - val_loss: 0.6626 - val_accuracy: 0.9460\n",
      "Epoch 38/45\n",
      "793/793 [==============================] - 108s 136ms/step - loss: 0.1576 - accuracy: 0.9925 - val_loss: 0.8316 - val_accuracy: 0.9203\n",
      "Epoch 39/45\n",
      "793/793 [==============================] - 111s 140ms/step - loss: 0.1911 - accuracy: 0.9878 - val_loss: 0.8611 - val_accuracy: 0.9439\n",
      "Epoch 40/45\n",
      "793/793 [==============================] - 110s 139ms/step - loss: 0.1561 - accuracy: 0.9934 - val_loss: 0.7713 - val_accuracy: 0.9411\n",
      "Epoch 41/45\n",
      "793/793 [==============================] - 111s 139ms/step - loss: 0.1635 - accuracy: 0.9903 - val_loss: 0.7030 - val_accuracy: 0.9363\n",
      "Epoch 42/45\n",
      "793/793 [==============================] - 109s 137ms/step - loss: 0.1595 - accuracy: 0.9913 - val_loss: 0.8297 - val_accuracy: 0.9446\n",
      "Epoch 43/45\n",
      "793/793 [==============================] - 110s 139ms/step - loss: 0.1551 - accuracy: 0.9915 - val_loss: 1.1737 - val_accuracy: 0.9357\n",
      "Epoch 44/45\n",
      "793/793 [==============================] - 112s 141ms/step - loss: 0.1564 - accuracy: 0.9908 - val_loss: 0.5376 - val_accuracy: 0.9431\n",
      "Epoch 45/45\n",
      "793/793 [==============================] - 112s 141ms/step - loss: 0.1812 - accuracy: 0.9887 - val_loss: 0.6074 - val_accuracy: 0.9293\n"
     ]
    }
   ],
   "source": [
    "H = model.fit_generator(\n",
    "    trainGen.generator(),\n",
    "    steps_per_epoch=trainGen.numImages // batch_s,\n",
    "    validation_data=valGen.generator(),\n",
    "    validation_steps=valGen.numImages // batch_s,\n",
    "    epochs=epochs,\n",
    "    max_queue_size=batch_s * 2,\n",
    "    verbose=1)"
   ]
  },
  {
   "cell_type": "code",
   "execution_count": 10,
   "id": "0ce6bee5-2da3-4ef1-8d9c-46bfca45dc6c",
   "metadata": {},
   "outputs": [
    {
     "name": "stdout",
     "output_type": "stream",
     "text": [
      "[INFO] serializing model...\n"
     ]
    }
   ],
   "source": [
    "# save the model to file\n",
    "print(\"[INFO] serializing model...\")\n",
    "model.save(\"model.hdf5\", overwrite=True)"
   ]
  },
  {
   "cell_type": "code",
   "execution_count": 6,
   "id": "d61063e5-d70e-492a-b395-3895a625bbdd",
   "metadata": {},
   "outputs": [],
   "source": [
    "# close the HDF5 datasets\n",
    "trainGen.close()\n",
    "valGen.close()"
   ]
  },
  {
   "cell_type": "code",
   "execution_count": 7,
   "id": "4cd48ae4-bae0-44b8-a3b1-e1188f25b697",
   "metadata": {},
   "outputs": [],
   "source": [
    "f = h5py.File(TEST_HDF5, 'r')\n",
    "class_names = [x for x in os.listdir(\"/media/pavle/HDD_disk/deep-learning/fruit-recognition/fruits-360_dataset/fruits-360/Training/\")]\n",
    "testY = np.array(list(f[\"labels\"]))\n",
    "testY = np_utils.to_categorical(LabelEncoder().fit_transform(testY), len(class_names))"
   ]
  },
  {
   "cell_type": "code",
   "execution_count": 8,
   "id": "44245347-5ed6-483d-ab68-f14d8b3463b0",
   "metadata": {},
   "outputs": [
    {
     "name": "stdout",
     "output_type": "stream",
     "text": [
      "[INFO] evaluating network...\n"
     ]
    }
   ],
   "source": [
    "# evaluate the network\n",
    "print(\"[INFO] evaluating network...\")\n",
    "predictions = model.predict(testGen.generator(), steps=testGen.numImages // batch_s)"
   ]
  },
  {
   "cell_type": "code",
   "execution_count": 9,
   "id": "2868f647-b30f-4efb-8331-2e77f30f838e",
   "metadata": {},
   "outputs": [
    {
     "name": "stdout",
     "output_type": "stream",
     "text": [
      "                     precision    recall  f1-score   support\n",
      "\n",
      "     Apple Braeburn       1.00      0.16      0.28       820\n",
      " Apple Crimson Snow       0.86      1.00      0.92       148\n",
      "     Apple Golden 1       1.00      1.00      1.00       160\n",
      "     Apple Golden 2       1.00      1.00      1.00       164\n",
      "     Apple Golden 3       0.99      1.00      1.00       161\n",
      " Apple Granny Smith       1.00      1.00      1.00       164\n",
      "    Apple Pink Lady       1.00      1.00      1.00       152\n",
      "        Apple Red 1       1.00      1.00      1.00       164\n",
      "        Apple Red 2       0.86      1.00      0.92       164\n",
      "        Apple Red 3       1.00      0.78      0.88       144\n",
      "Apple Red Delicious       1.00      1.00      1.00       166\n",
      " Apple Red Yellow 1       1.00      1.00      1.00       164\n",
      " Apple Red Yellow 2       1.00      1.00      1.00       219\n",
      "            Apricot       1.00      1.00      1.00       164\n",
      "            Avocado       0.18      1.00      0.30       143\n",
      "       Avocado ripe       1.00      1.00      1.00       166\n",
      "             Banana       1.00      1.00      1.00       166\n",
      " Banana Lady Finger       0.99      1.00      1.00       152\n",
      "           Beetroot       1.00      0.99      1.00       166\n",
      "          Blueberry       0.98      0.68      0.80       150\n",
      "       Cactus fruit       1.00      1.00      1.00       154\n",
      "       Cantaloupe 1       0.99      1.00      0.99       166\n",
      "       Cantaloupe 2       1.00      1.00      1.00       164\n",
      "          Carambula       0.99      0.99      0.99       164\n",
      "        Cauliflower       1.00      1.00      1.00       166\n",
      "           Cherry 1       0.84      1.00      0.91       234\n",
      "           Cherry 2       1.00      1.00      1.00       164\n",
      "     Cherry Rainier       1.00      1.00      1.00       246\n",
      "   Cherry Wax Black       1.00      1.00      1.00       246\n",
      "     Cherry Wax Red       1.00      0.92      0.96       164\n",
      "  Cherry Wax Yellow       1.00      0.21      0.34       164\n",
      "           Chestnut       1.00      1.00      1.00       164\n",
      "         Clementine       1.00      1.00      1.00       153\n",
      "              Cocos       1.00      1.00      1.00       166\n",
      "               Corn       1.00      1.00      1.00       166\n",
      "          Corn Husk       0.99      0.83      0.90       150\n",
      "    Cucumber Ripe 2       1.00      0.75      0.86       154\n",
      "              Dates       1.00      1.00      1.00       130\n",
      "           Eggplant       1.00      1.00      1.00       156\n",
      "                Fig       1.00      1.00      1.00       166\n",
      "        Ginger Root       1.00      0.80      0.89       156\n",
      "         Granadilla       1.00      1.00      1.00       234\n",
      "         Grape Blue       0.82      0.70      0.75        99\n",
      "         Grape Pink       1.00      1.00      1.00       166\n",
      "        Grape White       0.96      1.00      0.98       328\n",
      "      Grape White 2       0.54      1.00      0.70       164\n",
      "      Grape White 3       1.00      1.00      1.00       166\n",
      "      Grape White 4       0.98      1.00      0.99       166\n",
      "    Grapefruit Pink       1.00      1.00      1.00       164\n",
      "   Grapefruit White       1.00      1.00      1.00       158\n",
      "              Guava       1.00      1.00      1.00       166\n",
      "           Hazelnut       1.00      1.00      1.00       164\n",
      "        Huckleberry       1.00      0.86      0.93       166\n",
      "               Kaki       1.00      1.00      1.00       157\n",
      "               Kiwi       0.92      1.00      0.96       166\n",
      "           Kumquats       1.00      1.00      1.00       166\n",
      "              Lemon       1.00      1.00      1.00       156\n",
      "        Lemon Meyer       0.74      1.00      0.85       157\n",
      "              Limes       1.00      1.00      1.00       166\n",
      "             Lychee       1.00      1.00      1.00       164\n",
      "          Mandarine       1.00      1.00      1.00       166\n",
      "              Mango       1.00      1.00      1.00       166\n",
      "          Mango Red       1.00      1.00      1.00       166\n",
      "          Mangostan       1.00      1.00      1.00       166\n",
      "           Maracuja       1.00      1.00      1.00       166\n",
      " Melon Piel de Sapo       1.00      0.85      0.92       142\n",
      "           Mulberry       1.00      1.00      1.00       102\n",
      "          Nectarine       1.00      1.00      1.00       166\n",
      "     Nectarine Flat       1.00      1.00      1.00       246\n",
      "         Nut Forest       1.00      1.00      1.00       164\n",
      "          Nut Pecan       0.97      0.76      0.85       164\n",
      "          Onion Red       0.41      1.00      0.59       160\n",
      "   Onion Red Peeled       1.00      1.00      1.00       218\n",
      "        Onion White       1.00      0.97      0.99       178\n",
      "         Banana Red       0.63      1.00      0.78       150\n",
      "      Cucumber Ripe       1.00      1.00      1.00       155\n",
      "           Kohlrabi       1.00      1.00      1.00       146\n",
      "             Orange       1.00      1.00      1.00       160\n",
      "           Physalis       1.00      1.00      1.00       164\n",
      "             Papaya       1.00      1.00      1.00       166\n",
      "      Passion Fruit       1.00      0.77      0.87       164\n",
      "              Peach       1.00      1.00      1.00       246\n",
      "            Peach 2       0.82      1.00      0.90       164\n",
      "         Peach Flat       0.88      1.00      0.93       164\n",
      "               Pear       1.00      1.00      1.00       232\n",
      "             Pear 2       1.00      0.89      0.94       166\n",
      "         Pear Abate       1.00      1.00      1.00       234\n",
      "       Pear Forelle       0.99      1.00      1.00       102\n",
      "        Pear Kaiser       1.00      1.00      1.00       166\n",
      "       Pear Monster       1.00      1.00      1.00       222\n",
      "           Pear Red       1.00      0.97      0.99       237\n",
      "         Pear Stone       1.00      1.00      1.00       166\n",
      "      Pear Williams       1.00      0.78      0.87       166\n",
      "             Pepino       1.00      1.00      1.00       148\n",
      "       Pepper Green       0.93      1.00      0.96       234\n",
      "      Pepper Orange       1.00      0.99      1.00       222\n",
      "         Pepper Red       1.00      0.91      0.96       222\n",
      "      Pepper Yellow       1.00      1.00      1.00       164\n",
      " Physalis with Husk       0.86      0.99      0.92       164\n",
      "          Pineapple       0.83      1.00      0.91       166\n",
      "     Pineapple Mini       1.00      0.91      0.95       163\n",
      "       Pitahaya Red       1.00      1.00      1.00       166\n",
      "               Plum       1.00      1.00      1.00       151\n",
      "             Plum 2       1.00      1.00      1.00       142\n",
      "             Plum 3       1.00      1.00      1.00       304\n",
      "        Pomegranate       1.00      0.80      0.89       164\n",
      "     Pomelo Sweetie       0.97      1.00      0.98       153\n",
      "         Potato Red       0.64      1.00      0.78       150\n",
      "  Potato Red Washed       1.00      0.42      0.60       151\n",
      "       Potato Sweet       1.00      0.29      0.45       150\n",
      "       Potato White       1.00      0.98      0.99       150\n",
      "             Quince       1.00      1.00      1.00       166\n",
      "           Rambutan       0.93      1.00      0.96       164\n",
      "          Raspberry       0.94      1.00      0.97       166\n",
      "         Redcurrant       1.00      1.00      1.00       164\n",
      "              Salak       1.00      1.00      1.00       162\n",
      "         Strawberry       1.00      1.00      1.00       164\n",
      "   Strawberry Wedge       0.98      0.99      0.98       246\n",
      "          Tamarillo       1.00      1.00      1.00       166\n",
      "            Tangelo       1.00      1.00      1.00       166\n",
      "           Tomato 1       1.00      1.00      1.00       246\n",
      "           Tomato 2       1.00      0.86      0.92       225\n",
      "           Tomato 3       0.88      1.00      0.94       246\n",
      "           Tomato 4       1.00      1.00      1.00       160\n",
      "  Tomato Cherry Red       1.00      1.00      1.00       164\n",
      "       Tomato Heart       1.00      0.57      0.73       228\n",
      "      Tomato Maroon       1.00      1.00      1.00       127\n",
      " Tomato not Ripened       0.00      0.00      0.00        29\n",
      "      Tomato Yellow       0.00      0.00      0.00         0\n",
      "             Walnut       0.00      0.00      0.00         0\n",
      "\n",
      "           accuracy                           0.93     22656\n",
      "          macro avg       0.94      0.93      0.92     22656\n",
      "       weighted avg       0.97      0.93      0.93     22656\n",
      "\n"
     ]
    },
    {
     "name": "stderr",
     "output_type": "stream",
     "text": [
      "/home/pavle/.local/lib/python3.8/site-packages/sklearn/metrics/_classification.py:1248: UndefinedMetricWarning: Precision and F-score are ill-defined and being set to 0.0 in labels with no predicted samples. Use `zero_division` parameter to control this behavior.\n",
      "  _warn_prf(average, modifier, msg_start, len(result))\n",
      "/home/pavle/.local/lib/python3.8/site-packages/sklearn/metrics/_classification.py:1248: UndefinedMetricWarning: Recall and F-score are ill-defined and being set to 0.0 in labels with no true samples. Use `zero_division` parameter to control this behavior.\n",
      "  _warn_prf(average, modifier, msg_start, len(result))\n",
      "/home/pavle/.local/lib/python3.8/site-packages/sklearn/metrics/_classification.py:1248: UndefinedMetricWarning: Precision and F-score are ill-defined and being set to 0.0 in labels with no predicted samples. Use `zero_division` parameter to control this behavior.\n",
      "  _warn_prf(average, modifier, msg_start, len(result))\n",
      "/home/pavle/.local/lib/python3.8/site-packages/sklearn/metrics/_classification.py:1248: UndefinedMetricWarning: Recall and F-score are ill-defined and being set to 0.0 in labels with no true samples. Use `zero_division` parameter to control this behavior.\n",
      "  _warn_prf(average, modifier, msg_start, len(result))\n",
      "/home/pavle/.local/lib/python3.8/site-packages/sklearn/metrics/_classification.py:1248: UndefinedMetricWarning: Precision and F-score are ill-defined and being set to 0.0 in labels with no predicted samples. Use `zero_division` parameter to control this behavior.\n",
      "  _warn_prf(average, modifier, msg_start, len(result))\n",
      "/home/pavle/.local/lib/python3.8/site-packages/sklearn/metrics/_classification.py:1248: UndefinedMetricWarning: Recall and F-score are ill-defined and being set to 0.0 in labels with no true samples. Use `zero_division` parameter to control this behavior.\n",
      "  _warn_prf(average, modifier, msg_start, len(result))\n"
     ]
    }
   ],
   "source": [
    "#Excluding 32 labels from testY because model.predict doesn't predict the last 32 samples. Don't know why.\n",
    "print(classification_report(testY[:-32].argmax(axis=1), predictions.argmax(axis=1), target_names=class_names[:-1]))"
   ]
  },
  {
   "cell_type": "code",
   "execution_count": 11,
   "id": "9ceb42ab-be89-4e41-9a6e-b1ae8e7d8198",
   "metadata": {},
   "outputs": [
    {
     "data": {
      "image/png": "[encoded data removed]",
      "text/plain": [
       "<Figure size 432x288 with 1 Axes>"
      ]
     },
     "metadata": {},
     "output_type": "display_data"
    }
   ],
   "source": [
    "plt.style.use(\"ggplot\")\n",
    "plt.figure()\n",
    "plt.plot(np.arange(0, epochs), H.history[\"loss\"], label=\"train_loss\")\n",
    "plt.plot(np.arange(0, epochs), H.history[\"val_loss\"], label=\"val_loss\")\n",
    "plt.plot(np.arange(0,epochs), H.history[\"accuracy\"], label=\"train_acc\")\n",
    "plt.plot(np.arange(0,epochs), H.history[\"val_accuracy\"], label=\"val_acc\")\n",
    "plt.title(\"Training Loss and Accuracy\")\n",
    "plt.xlabel(\"Epoch #\")\n",
    "plt.ylabel(\"Loss/Acuracy\")\n",
    "plt.legend()\n",
    "plt.show()"
   ]
  },
  {
   "cell_type": "code",
   "execution_count": 12,
   "id": "a51186cb-8154-4c80-b52a-2c54c1ada4df",
   "metadata": {},
   "outputs": [],
   "source": [
    "testGen.close()"
   ]
  }
 ],
 "metadata": {
  "kernelspec": {
   "display_name": "Python 3 (ipykernel)",
   "language": "python",
   "name": "python3"
  },
  "language_info": {
   "codemirror_mode": {
    "name": "ipython",
    "version": 3
   },
   "file_extension": ".py",
   "mimetype": "text/x-python",
   "name": "python",
   "nbconvert_exporter": "python",
   "pygments_lexer": "ipython3",
   "version": "3.8.12"
  }
 },
 "nbformat": 4,
 "nbformat_minor": 5
}
